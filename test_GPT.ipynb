{
  "nbformat": 4,
  "nbformat_minor": 0,
  "metadata": {
    "colab": {
      "provenance": []
    },
    "kernelspec": {
      "name": "python3",
      "display_name": "Python 3"
    },
    "language_info": {
      "name": "python"
    },
    "widgets": {
      "application/vnd.jupyter.widget-state+json": {
        "de3c5b1e91e540aa90f409e53a1dc16f": {
          "model_module": "@jupyter-widgets/controls",
          "model_name": "HBoxModel",
          "model_module_version": "1.5.0",
          "state": {
            "_dom_classes": [],
            "_model_module": "@jupyter-widgets/controls",
            "_model_module_version": "1.5.0",
            "_model_name": "HBoxModel",
            "_view_count": null,
            "_view_module": "@jupyter-widgets/controls",
            "_view_module_version": "1.5.0",
            "_view_name": "HBoxView",
            "box_style": "",
            "children": [
              "IPY_MODEL_d5ed4ba42ded4ef1b1cffb3ed85a3639",
              "IPY_MODEL_214841154d984a5f8f046db7aea88f7b",
              "IPY_MODEL_e8e89c2c17fd433a988b4c04847935b4"
            ],
            "layout": "IPY_MODEL_5fa17f13c8ee4127a041b77d4b4f12ca"
          }
        },
        "d5ed4ba42ded4ef1b1cffb3ed85a3639": {
          "model_module": "@jupyter-widgets/controls",
          "model_name": "HTMLModel",
          "model_module_version": "1.5.0",
          "state": {
            "_dom_classes": [],
            "_model_module": "@jupyter-widgets/controls",
            "_model_module_version": "1.5.0",
            "_model_name": "HTMLModel",
            "_view_count": null,
            "_view_module": "@jupyter-widgets/controls",
            "_view_module_version": "1.5.0",
            "_view_name": "HTMLView",
            "description": "",
            "description_tooltip": null,
            "layout": "IPY_MODEL_db0e367a5905418495b6fbe078078a80",
            "placeholder": "​",
            "style": "IPY_MODEL_b5e274f91f0045259aa08dd0641ad997",
            "value": "100%"
          }
        },
        "214841154d984a5f8f046db7aea88f7b": {
          "model_module": "@jupyter-widgets/controls",
          "model_name": "FloatProgressModel",
          "model_module_version": "1.5.0",
          "state": {
            "_dom_classes": [],
            "_model_module": "@jupyter-widgets/controls",
            "_model_module_version": "1.5.0",
            "_model_name": "FloatProgressModel",
            "_view_count": null,
            "_view_module": "@jupyter-widgets/controls",
            "_view_module_version": "1.5.0",
            "_view_name": "ProgressView",
            "bar_style": "success",
            "description": "",
            "description_tooltip": null,
            "layout": "IPY_MODEL_db1e74bde4d44cc7af1d07c71ac0ab0f",
            "max": 48,
            "min": 0,
            "orientation": "horizontal",
            "style": "IPY_MODEL_9487213faa2641b886b7a383ae5af3bb",
            "value": 48
          }
        },
        "e8e89c2c17fd433a988b4c04847935b4": {
          "model_module": "@jupyter-widgets/controls",
          "model_name": "HTMLModel",
          "model_module_version": "1.5.0",
          "state": {
            "_dom_classes": [],
            "_model_module": "@jupyter-widgets/controls",
            "_model_module_version": "1.5.0",
            "_model_name": "HTMLModel",
            "_view_count": null,
            "_view_module": "@jupyter-widgets/controls",
            "_view_module_version": "1.5.0",
            "_view_name": "HTMLView",
            "description": "",
            "description_tooltip": null,
            "layout": "IPY_MODEL_5123bd91719a41b499007fa0404f97b8",
            "placeholder": "​",
            "style": "IPY_MODEL_95fabe52f9eb41cba70bed2e471d8a3b",
            "value": " 48/48 [25:06&lt;00:00, 26.51s/it]"
          }
        },
        "5fa17f13c8ee4127a041b77d4b4f12ca": {
          "model_module": "@jupyter-widgets/base",
          "model_name": "LayoutModel",
          "model_module_version": "1.2.0",
          "state": {
            "_model_module": "@jupyter-widgets/base",
            "_model_module_version": "1.2.0",
            "_model_name": "LayoutModel",
            "_view_count": null,
            "_view_module": "@jupyter-widgets/base",
            "_view_module_version": "1.2.0",
            "_view_name": "LayoutView",
            "align_content": null,
            "align_items": null,
            "align_self": null,
            "border": null,
            "bottom": null,
            "display": null,
            "flex": null,
            "flex_flow": null,
            "grid_area": null,
            "grid_auto_columns": null,
            "grid_auto_flow": null,
            "grid_auto_rows": null,
            "grid_column": null,
            "grid_gap": null,
            "grid_row": null,
            "grid_template_areas": null,
            "grid_template_columns": null,
            "grid_template_rows": null,
            "height": null,
            "justify_content": null,
            "justify_items": null,
            "left": null,
            "margin": null,
            "max_height": null,
            "max_width": null,
            "min_height": null,
            "min_width": null,
            "object_fit": null,
            "object_position": null,
            "order": null,
            "overflow": null,
            "overflow_x": null,
            "overflow_y": null,
            "padding": null,
            "right": null,
            "top": null,
            "visibility": null,
            "width": null
          }
        },
        "db0e367a5905418495b6fbe078078a80": {
          "model_module": "@jupyter-widgets/base",
          "model_name": "LayoutModel",
          "model_module_version": "1.2.0",
          "state": {
            "_model_module": "@jupyter-widgets/base",
            "_model_module_version": "1.2.0",
            "_model_name": "LayoutModel",
            "_view_count": null,
            "_view_module": "@jupyter-widgets/base",
            "_view_module_version": "1.2.0",
            "_view_name": "LayoutView",
            "align_content": null,
            "align_items": null,
            "align_self": null,
            "border": null,
            "bottom": null,
            "display": null,
            "flex": null,
            "flex_flow": null,
            "grid_area": null,
            "grid_auto_columns": null,
            "grid_auto_flow": null,
            "grid_auto_rows": null,
            "grid_column": null,
            "grid_gap": null,
            "grid_row": null,
            "grid_template_areas": null,
            "grid_template_columns": null,
            "grid_template_rows": null,
            "height": null,
            "justify_content": null,
            "justify_items": null,
            "left": null,
            "margin": null,
            "max_height": null,
            "max_width": null,
            "min_height": null,
            "min_width": null,
            "object_fit": null,
            "object_position": null,
            "order": null,
            "overflow": null,
            "overflow_x": null,
            "overflow_y": null,
            "padding": null,
            "right": null,
            "top": null,
            "visibility": null,
            "width": null
          }
        },
        "b5e274f91f0045259aa08dd0641ad997": {
          "model_module": "@jupyter-widgets/controls",
          "model_name": "DescriptionStyleModel",
          "model_module_version": "1.5.0",
          "state": {
            "_model_module": "@jupyter-widgets/controls",
            "_model_module_version": "1.5.0",
            "_model_name": "DescriptionStyleModel",
            "_view_count": null,
            "_view_module": "@jupyter-widgets/base",
            "_view_module_version": "1.2.0",
            "_view_name": "StyleView",
            "description_width": ""
          }
        },
        "db1e74bde4d44cc7af1d07c71ac0ab0f": {
          "model_module": "@jupyter-widgets/base",
          "model_name": "LayoutModel",
          "model_module_version": "1.2.0",
          "state": {
            "_model_module": "@jupyter-widgets/base",
            "_model_module_version": "1.2.0",
            "_model_name": "LayoutModel",
            "_view_count": null,
            "_view_module": "@jupyter-widgets/base",
            "_view_module_version": "1.2.0",
            "_view_name": "LayoutView",
            "align_content": null,
            "align_items": null,
            "align_self": null,
            "border": null,
            "bottom": null,
            "display": null,
            "flex": null,
            "flex_flow": null,
            "grid_area": null,
            "grid_auto_columns": null,
            "grid_auto_flow": null,
            "grid_auto_rows": null,
            "grid_column": null,
            "grid_gap": null,
            "grid_row": null,
            "grid_template_areas": null,
            "grid_template_columns": null,
            "grid_template_rows": null,
            "height": null,
            "justify_content": null,
            "justify_items": null,
            "left": null,
            "margin": null,
            "max_height": null,
            "max_width": null,
            "min_height": null,
            "min_width": null,
            "object_fit": null,
            "object_position": null,
            "order": null,
            "overflow": null,
            "overflow_x": null,
            "overflow_y": null,
            "padding": null,
            "right": null,
            "top": null,
            "visibility": null,
            "width": null
          }
        },
        "9487213faa2641b886b7a383ae5af3bb": {
          "model_module": "@jupyter-widgets/controls",
          "model_name": "ProgressStyleModel",
          "model_module_version": "1.5.0",
          "state": {
            "_model_module": "@jupyter-widgets/controls",
            "_model_module_version": "1.5.0",
            "_model_name": "ProgressStyleModel",
            "_view_count": null,
            "_view_module": "@jupyter-widgets/base",
            "_view_module_version": "1.2.0",
            "_view_name": "StyleView",
            "bar_color": null,
            "description_width": ""
          }
        },
        "5123bd91719a41b499007fa0404f97b8": {
          "model_module": "@jupyter-widgets/base",
          "model_name": "LayoutModel",
          "model_module_version": "1.2.0",
          "state": {
            "_model_module": "@jupyter-widgets/base",
            "_model_module_version": "1.2.0",
            "_model_name": "LayoutModel",
            "_view_count": null,
            "_view_module": "@jupyter-widgets/base",
            "_view_module_version": "1.2.0",
            "_view_name": "LayoutView",
            "align_content": null,
            "align_items": null,
            "align_self": null,
            "border": null,
            "bottom": null,
            "display": null,
            "flex": null,
            "flex_flow": null,
            "grid_area": null,
            "grid_auto_columns": null,
            "grid_auto_flow": null,
            "grid_auto_rows": null,
            "grid_column": null,
            "grid_gap": null,
            "grid_row": null,
            "grid_template_areas": null,
            "grid_template_columns": null,
            "grid_template_rows": null,
            "height": null,
            "justify_content": null,
            "justify_items": null,
            "left": null,
            "margin": null,
            "max_height": null,
            "max_width": null,
            "min_height": null,
            "min_width": null,
            "object_fit": null,
            "object_position": null,
            "order": null,
            "overflow": null,
            "overflow_x": null,
            "overflow_y": null,
            "padding": null,
            "right": null,
            "top": null,
            "visibility": null,
            "width": null
          }
        },
        "95fabe52f9eb41cba70bed2e471d8a3b": {
          "model_module": "@jupyter-widgets/controls",
          "model_name": "DescriptionStyleModel",
          "model_module_version": "1.5.0",
          "state": {
            "_model_module": "@jupyter-widgets/controls",
            "_model_module_version": "1.5.0",
            "_model_name": "DescriptionStyleModel",
            "_view_count": null,
            "_view_module": "@jupyter-widgets/base",
            "_view_module_version": "1.2.0",
            "_view_name": "StyleView",
            "description_width": ""
          }
        }
      }
    }
  },
  "cells": [
    {
      "cell_type": "code",
      "execution_count": null,
      "metadata": {
        "id": "WM6Jw9m8Gd1U"
      },
      "outputs": [],
      "source": [
        "# !pip install openai\n",
        "# !wget https://raw.githubusercontent.com/allenai/bi-att-flow/master/squad/evaluate-v1.1.py\n",
        "# !pip install sentencepiece\n",
        "# !pip install peft\n",
        "# !pip install sacrebleu"
      ]
    },
    {
      "cell_type": "code",
      "source": [
        "from openai import OpenAI\n",
        "from transformers import AutoModelForCausalLM, AutoTokenizer\n",
        "from transformers import AutoTokenizer, AutoModelForSeq2SeqLM\n",
        "from transformers import pipeline, AutoModelWithLMHead\n",
        "import torch\n",
        "from  transformers  import  AutoTokenizer, AutoModelWithLMHead, pipeline\n",
        "from google.colab import drive\n",
        "import glob\n",
        "from transformers.pipelines import pipeline\n",
        "from transformers import AutoModelForQuestionAnswering\n",
        "from transformers import AutoTokenizer\n",
        "import os\n",
        "import re\n",
        "import random\n",
        "from tqdm.notebook import tqdm\n",
        "import json\n",
        "import time\n",
        "drive.mount('/content/drive')\n",
        "client = OpenAI(api_key='KEY')"
      ],
      "metadata": {
        "colab": {
          "base_uri": "https://localhost:8080/"
        },
        "id": "4k9GTfzu0IoA",
        "outputId": "6819d4e2-803a-430f-ff38-98128a265bf3"
      },
      "execution_count": null,
      "outputs": [
        {
          "output_type": "stream",
          "name": "stdout",
          "text": [
            "Drive already mounted at /content/drive; to attempt to forcibly remount, call drive.mount(\"/content/drive\", force_remount=True).\n"
          ]
        }
      ]
    },
    {
      "cell_type": "code",
      "source": [
        "def batch(iterable, n=1):\n",
        "    l = len(iterable)\n",
        "    for ndx in range(0, l, n):\n",
        "        yield iterable[ndx:min(ndx + n, l)]"
      ],
      "metadata": {
        "id": "n63V4sWXCpzH"
      },
      "execution_count": null,
      "outputs": []
    },
    {
      "cell_type": "code",
      "source": [
        "def do_experiment(path_regex,client,test_fn, result_path, prefix, batch_size):\n",
        "    for file_path in glob.glob(path_regex):\n",
        "        file_name = os.path.split(file_path)[-1]\n",
        "        lang = file_name.split('.')[1]\n",
        "        results = []\n",
        "        with open(file_path, 'r', encoding='utf-8') as f:\n",
        "            xquad_json = json.load(f)\n",
        "            for data in tqdm(xquad_json['data']):\n",
        "                title = data['title']\n",
        "                for paragraph in data['paragraphs']:\n",
        "                  context = paragraph['context']\n",
        "                  questions = list(map(lambda x:x['question'], paragraph['qas']))\n",
        "                  answers = list(map(lambda x:x['answers'][0]['text'], paragraph['qas']))\n",
        "                  ids = list(map(lambda x:x['id'], paragraph['qas']))\n",
        "                  for batch_question, batch_ids in zip(batch(questions, batch_size), batch(ids, batch_size)):\n",
        "                      model_answers = test_fn(context, batch_question, answers, title, client)\n",
        "                      for model_answer, id in zip(model_answers, batch_ids):\n",
        "                          results.append({id:model_answer})\n",
        "\n",
        "        out_path = os.path.join(result_path, prefix + '/' + file_name)\n",
        "        os.makedirs(os.path.dirname(out_path), exist_ok=True)\n",
        "        with open(out_path, \"w+\", encoding='utf-8') as out_f:\n",
        "            json.dump(results, out_f, ensure_ascii=False)"
      ],
      "metadata": {
        "id": "pwkTgd86CuNV"
      },
      "execution_count": null,
      "outputs": []
    },
    {
      "cell_type": "code",
      "source": [
        "def test_function(context, questions, answers, title, client):\n",
        "    output = []\n",
        "    for q_id, (question, answer) in enumerate(zip(questions, answers)):\n",
        "        if q_id == len(questions) - 1:\n",
        "              ex_question = questions[0]\n",
        "              ex_answer = answers[0]\n",
        "        else:\n",
        "              ex_question = questions[-1]\n",
        "              ex_answer = answers[-1]\n",
        "\n",
        "        prompt = f\"Title: {title}\\nBackground: {context}\\nQ: {ex_question}\\nA: {ex_answer}\\nQ: {question}\\nA: \"\n",
        "        completion = client.chat.completions.create(\n",
        "          model=\"gpt-3.5-turbo\",\n",
        "          messages=[{\"role\": \"user\", \"content\": prompt}])\n",
        "        output.append(completion.choices[0].message.content)\n",
        "        time.sleep(0.13)\n",
        "    return output"
      ],
      "metadata": {
        "id": "dgEty62jC3ma"
      },
      "execution_count": null,
      "outputs": []
    },
    {
      "cell_type": "code",
      "source": [
        "path_regex = '/content/drive/MyDrive/xquad/xquad.zh.json'\n",
        "do_experiment(path_regex,client,test_function, '/content/drive/MyDrive/', 'GPT_35_TURBO_normal', 32)"
      ],
      "metadata": {
        "id": "o4vc7tP1C50z",
        "colab": {
          "base_uri": "https://localhost:8080/",
          "height": 49,
          "referenced_widgets": [
            "de3c5b1e91e540aa90f409e53a1dc16f",
            "d5ed4ba42ded4ef1b1cffb3ed85a3639",
            "214841154d984a5f8f046db7aea88f7b",
            "e8e89c2c17fd433a988b4c04847935b4",
            "5fa17f13c8ee4127a041b77d4b4f12ca",
            "db0e367a5905418495b6fbe078078a80",
            "b5e274f91f0045259aa08dd0641ad997",
            "db1e74bde4d44cc7af1d07c71ac0ab0f",
            "9487213faa2641b886b7a383ae5af3bb",
            "5123bd91719a41b499007fa0404f97b8",
            "95fabe52f9eb41cba70bed2e471d8a3b"
          ]
        },
        "outputId": "9f09808b-320c-4802-d682-40393fecf00a"
      },
      "execution_count": null,
      "outputs": [
        {
          "output_type": "display_data",
          "data": {
            "text/plain": [
              "  0%|          | 0/48 [00:00<?, ?it/s]"
            ],
            "application/vnd.jupyter.widget-view+json": {
              "version_major": 2,
              "version_minor": 0,
              "model_id": "de3c5b1e91e540aa90f409e53a1dc16f"
            }
          },
          "metadata": {}
        }
      ]
    }
  ]
}