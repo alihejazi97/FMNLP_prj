{
  "cells": [
    {
      "cell_type": "code",
      "source": [
        "from IPython.display import clear_output"
      ],
      "metadata": {
        "id": "mTnqMw9kCKwr"
      },
      "execution_count": null,
      "outputs": []
    },
    {
      "cell_type": "code",
      "execution_count": null,
      "metadata": {
        "id": "JwlMhSY1qgNx"
      },
      "outputs": [],
      "source": [
        "!git clone https://github.com/google-deepmind/xquad\n",
        "!apt-get install libgoogle-perftools-dev libsparsehash-dev\n",
        "!pip install sentencepiece\n",
        "!pip install accelerate\n",
        "!pip install stanza\n",
        "!pip install langdetect\n",
        "!pip install sudachipy sudachidict_core\n",
        "!git clone https://github.com/qiyuw/WSPAlign.git\n",
        "!git clone https://github.com/qiyuw/WSPAlign.InferEval.git\n",
        "!pip install sentence-transformers==2.2.2\n",
        "!pip install numba==0.56.4\n",
        "!pip install sentence-splitter==1.4\n",
        "!pip install faiss-gpu==1.7.2\n",
        "!pip install googletrans==4.0.0rc1\n",
        "!git clone https://github.com/alihejazi97/bertalign.git\n",
        "!cd /content/bertalign/ && pip install .\n",
        "clear_output(wait=False)"
      ]
    },
    {
      "cell_type": "code",
      "source": [
        "from transformers import (AutoConfig,AutoModelForQuestionAnswering,AutoTokenizer,pipeline)\n",
        "import stanza\n",
        "import torch\n",
        "from google.colab import drive\n",
        "from sentence_transformers import SentenceTransformer, util\n",
        "from stanza.pipeline.core import DownloadMethod\n",
        "import copy\n",
        "import json\n",
        "import os\n",
        "from tqdm.notebook import tqdm\n",
        "from bertalign import Bertalign\n",
        "from difflib import SequenceMatcher\n",
        "clear_output(wait=False)"
      ],
      "metadata": {
        "id": "ytPefsA-ZqAp"
      },
      "execution_count": null,
      "outputs": []
    },
    {
      "cell_type": "code",
      "execution_count": null,
      "metadata": {
        "colab": {
          "base_uri": "https://localhost:8080/"
        },
        "id": "XU9h2T5sp5Fo",
        "outputId": "dd3ebfb9-ed10-4cfd-d9ff-75fa588659dd"
      },
      "outputs": [
        {
          "output_type": "stream",
          "name": "stdout",
          "text": [
            "Drive already mounted at /content/drive; to attempt to forcibly remount, call drive.mount(\"/content/drive\", force_remount=True).\n",
            "device = cuda\n"
          ]
        }
      ],
      "source": [
        "device = torch.device(\"cuda\" if torch.cuda.is_available() else \"cpu\")\n",
        "pipe_align = pipeline(\"question-answering\", model=\"qiyuw/WSPAlign-mbert-base\", device=device)\n",
        "clear_output(wait=False)\n",
        "drive.mount('/content/drive')\n",
        "print(f'device = {device}')"
      ]
    },
    {
      "cell_type": "code",
      "source": [
        "# lang_codes = ['ar','de','el','en','es','fa','fr','hi','ja','ro','ru','sw','te','th','tr','vi','zh']\n",
        "lang_codes = ['hi', 'en']\n",
        "# 'bn' bengali is not supported\n",
        "for lang_code in lang_codes:\n",
        "    stanza.download(lang_code)\n",
        "clear_output(wait=False)"
      ],
      "metadata": {
        "id": "dibCklxKCwbE"
      },
      "execution_count": null,
      "outputs": []
    },
    {
      "cell_type": "code",
      "source": [
        "def get_stanza_pipeline(lang_code, use_gpu=False):\n",
        "    return stanza.Pipeline(lang_code, use_gpu=use_gpu, download_method=None, tokenize_no_ssplit=True)\n",
        "\n",
        "# def contains_unmatched_snts_length(doc1, doc2, data_idx, context_idx):\n",
        "#     if len(doc1.sentences) != len(doc2.sentences):\n",
        "#         print(f'data_id = {data_idx} -- context_id = {context_idx}')\n",
        "#         print(f\"number of sentences don't match. src length = {len(doc1.sentences)} -- target length = {len(doc2.sentences)}\")\n",
        "#         return True\n",
        "#     return False\n",
        "\n",
        "def contains_illegal_phrases(phrase, illegal_phrases):\n",
        "    if not illegal_phrases:\n",
        "        return False\n",
        "    for illegal_phrase in illegal_phrases:\n",
        "        if phrase['src_text'] in illegal_phrase or illegal_phrase in phrase['src_text']:\n",
        "            return True\n",
        "        if SequenceMatcher(None, phrase['src_text'], illegal_phrase).find_longest_match().size > 4:\n",
        "            return True\n",
        "    return False\n",
        "\n",
        "def align_sentences(src, tgt, src_lang, tgt_lang):\n",
        "    aligner = Bertalign(src, tgt, src_lang, tgt_lang)\n",
        "    aligner.align_sents()\n",
        "    src_lines = []\n",
        "    tgt_lines = []\n",
        "    for bead in (aligner.result):\n",
        "        src_lines.append(aligner._get_line(bead[0], aligner.src_sents))\n",
        "        tgt_lines.append(aligner._get_line(bead[1], aligner.tgt_sents))\n",
        "    return src_lines, tgt_lines\n",
        "\n",
        "def trim_phrases(phrases, illegal_phrases=None, threshold=0.4):\n",
        "    phrases_out = []\n",
        "    for phrase_idx, phrase in enumerate(phrases):\n",
        "        if phrase['align_score'] < threshold:\n",
        "            continue\n",
        "        if contains_illegal_phrases(phrase, illegal_phrases):\n",
        "            continue\n",
        "        if len(phrases_out) == 0:\n",
        "            phrases_out.append(phrase)\n",
        "        elif phrase['target_start'] >= phrases_out[-1]['target_end']:\n",
        "            phrases_out.append(phrase)\n",
        "    return phrases_out\n",
        "\n",
        "def get_alignments(src, target, phrases, pipe, context_sep=' \\u00b6 '):\n",
        "    remove_ids = []\n",
        "    for phrase_idx, phrase in enumerate(phrases):\n",
        "        alignment_data = target[:phrase['target_start']] + context_sep + target[phrase['target_start']:phrase['target_end']] + context_sep + target[phrase['target_end']:]\n",
        "        try:\n",
        "            result = pipe(alignment_data, src)\n",
        "            phrase['src_start'] = result['start']\n",
        "            phrase['src_end'] = result['end']\n",
        "            phrase['src_text'] = result['answer']\n",
        "            phrase['align_score'] = result['score']\n",
        "        except:\n",
        "            remove_ids.append(phrase_idx)\n",
        "\n",
        "    for i, remove_id in enumerate(remove_ids):\n",
        "          del[phrases[remove_id-i]]\n",
        "\n",
        "def replace_phrases(snt_src, phrases, snt_target, pipe_align, illegal_phrases):\n",
        "    phrases = sorted(phrases, key=(lambda phrase: (phrase['target_start'], -phrase['target_end'])))\n",
        "    get_alignments(snt_src, snt_target, phrases, pipe_align)\n",
        "    phrases = trim_phrases(phrases, illegal_phrases)\n",
        "    if len(phrases) == 0:\n",
        "        return copy.copy(snt_src)\n",
        "    snt_out = copy.copy(snt_src[:phrases[0]['src_start']])\n",
        "    for idx, phrase in enumerate(phrases):\n",
        "        if idx == len(phrases) - 1:\n",
        "            snt_out = snt_out + snt_target[phrase['target_start']:phrase['target_end']] + snt_src[phrase['src_end']:]\n",
        "            continue\n",
        "        snt_out = snt_out + snt_target[phrase['target_start']:phrase['target_end']] + snt_src[phrase['src_end']:phrases[idx+1]['src_start']]\n",
        "    return snt_out\n",
        "\n",
        "\n",
        "def convert(src_lines, tgt_lines, pipe_src, pipe_target, pipe_align, illegal_phrases, data_idx, context_idx):\n",
        "    p_out = []\n",
        "    for src_line, tgt_line in zip(src_lines, tgt_lines):\n",
        "        if len(pipe_src(src_line).sentences) == 0:\n",
        "            continue\n",
        "        if len(pipe_target(tgt_line).sentences) == 0:\n",
        "            p_out.append(src_line)\n",
        "            continue\n",
        "        snt_src = pipe_src(src_line).sentences[0]\n",
        "        snt_target = pipe_target(tgt_line).sentences[0]\n",
        "        phrases = []\n",
        "        for entity in snt_target.entities:\n",
        "            phrases.append({'target_start': entity.start_char, 'target_end':entity.end_char})\n",
        "        for word in snt_target.words:\n",
        "            if word.upos == 'ADJ':\n",
        "                phrases.append({'target_start': word.start_char, 'target_end':word.end_char})\n",
        "        snt_result = replace_phrases(snt_src.text, phrases, snt_target.text, pipe_align, illegal_phrases)\n",
        "        p_out.append(snt_result)\n",
        "    return ' '.join(p_out), True"
      ],
      "metadata": {
        "id": "izb1tZXvYa_G"
      },
      "execution_count": null,
      "outputs": []
    },
    {
      "cell_type": "code",
      "source": [
        "context_sep=' \\u00b6 '\n",
        "lang = lang_codes[0]\n",
        "x_nlp = get_stanza_pipeline(lang, use_gpu=True)\n",
        "en_nlp = get_stanza_pipeline('en', use_gpu=True)\n",
        "clear_output(wait=False)"
      ],
      "metadata": {
        "id": "xciYSvhJdKJU"
      },
      "execution_count": null,
      "outputs": []
    },
    {
      "cell_type": "code",
      "source": [
        "with open(f'/content/xquad/xquad.{lang}.json', 'r') as f:\n",
        "    x_obj = json.load(f)\n",
        "with open(f'/content/xquad/xquad.en.json', 'r') as f:\n",
        "    en_obj = json.load(f)"
      ],
      "metadata": {
        "id": "1ATRhEczfLkT"
      },
      "execution_count": null,
      "outputs": []
    },
    {
      "cell_type": "code",
      "source": [
        "count_forget_it = 0\n",
        "with tqdm(total=len(x_obj['data'])) as pbar1:\n",
        "    for data_idx, (x_data, en_data) in enumerate(zip(x_obj['data'], en_obj['data'])):\n",
        "        with tqdm(total=len(x_data['paragraphs']), leave=False) as pbar2:\n",
        "            for context_idx, (x_paragraph, en_paragraph) in enumerate(zip(x_data['paragraphs'], en_data['paragraphs'])):\n",
        "                x_context = x_paragraph['context'].replace('\\ufeff','')\n",
        "                en_context = en_paragraph['context'].replace('\\ufeff','')\n",
        "\n",
        "                illegal_phrases = []\n",
        "                for x_qas in x_paragraph['qas']:\n",
        "                    illegal_phrases.append(x_qas['answers'][0]['text'])\n",
        "\n",
        "                src_lines, tgt_lines = align_sentences(x_context,en_context, lang, 'en')\n",
        "\n",
        "                cs_context, changed = convert(src_lines, tgt_lines, x_nlp, en_nlp, pipe_align, illegal_phrases, data_idx, context_idx)\n",
        "\n",
        "                if changed:\n",
        "                    forget_it = False\n",
        "                    for x_qas, illegal_phrase in zip(x_paragraph['qas'], illegal_phrases):\n",
        "                        if cs_context.find(x_qas['answers'][0]['text']) == -1:\n",
        "                            count_forget_it += 1\n",
        "                            forget_it = True\n",
        "                    if forget_it:\n",
        "                        continue\n",
        "                    x_paragraph['context'] = cs_context\n",
        "                    for x_qas, illegal_phrase in zip(x_paragraph['qas'], illegal_phrases):\n",
        "                        x_start = cs_context.find(x_qas['answers'][0]['text'])\n",
        "                        x_qas['answers'][0]['answer_start'] = x_start\n",
        "                        if not x_qas['answers'][0]['text'] == cs_context[x_start:x_start + len(x_qas['answers'][0]['text'])]:\n",
        "                            print(f'data_id = {data_idx} -- context_id = {context_idx}')\n",
        "                            print(f\"{cs_context[x_start:x_start + len(x_qas['answers'][0]['text'])]}\")\n",
        "                            print(x_qas['answers'][0]['text'])\n",
        "\n",
        "                pbar2.update()\n",
        "        pbar1.update()"
      ],
      "metadata": {
        "colab": {
          "base_uri": "https://localhost:8080/",
          "height": 454,
          "referenced_widgets": [
            "23e5feb7c8b44541ac888fc727c5e9b4",
            "ee06a9397ec140a286830f670812936b",
            "3bf673ead8df4aa7857a2c7ddb5bce87",
            "9f39823d5069457cbf471ecdcc06c360",
            "e1b74c577340404b9120a8e70f4b43dd",
            "cd6eb1b1875c4e8b95e884b90f6bc9b5",
            "34c01c97cb144bc980b185295866df4b",
            "ee72ef45e89c4cd590168deb6277c01c",
            "249a1caa2efb4ac983fbad82d257db2b",
            "6e5e4d572c804558b03befba40e4744a",
            "3757e924e93e4b0ab760407467f90828",
            "df59ee57be3c4bba8085a79aa247b8ca",
            "8e782acc51164798a1a0bbe7477c8df4",
            "ee6b732b20da4a52b4babe8282072e13",
            "0991173d91584a91b4f6392e46934cd8",
            "e4fadb64a6fd498aa09e267a7cb5543c",
            "941a1a169ad548a09f711260b736f943",
            "f0c833d6f39144b2b732a472e561dc33",
            "219fd136e44a4b639219f6d1232c3043",
            "6cbd043b81c44430972d174eccee1673",
            "b18547982502405aaf4f2b2f579a329c",
            "d3c4a02c4a4649918b125e480a49be4c"
          ]
        },
        "id": "Jos-MQL1oDIq",
        "outputId": "75f6d1a5-425e-44f6-8d60-75c14f43f66f"
      },
      "execution_count": null,
      "outputs": [
        {
          "output_type": "display_data",
          "data": {
            "text/plain": [
              "  0%|          | 0/48 [00:00<?, ?it/s]"
            ],
            "application/vnd.jupyter.widget-view+json": {
              "version_major": 2,
              "version_minor": 0,
              "model_id": "23e5feb7c8b44541ac888fc727c5e9b4"
            }
          },
          "metadata": {}
        },
        {
          "output_type": "display_data",
          "data": {
            "text/plain": [
              "  0%|          | 0/5 [00:00<?, ?it/s]"
            ],
            "application/vnd.jupyter.widget-view+json": {
              "version_major": 2,
              "version_minor": 0,
              "model_id": "df59ee57be3c4bba8085a79aa247b8ca"
            }
          },
          "metadata": {}
        },
        {
          "output_type": "error",
          "ename": "Exception",
          "evalue": "The language Hindi is not suppored yet.",
          "traceback": [
            "\u001b[0;31m---------------------------------------------------------------------------\u001b[0m",
            "\u001b[0;31mException\u001b[0m                                 Traceback (most recent call last)",
            "\u001b[0;32m<ipython-input-9-f47fa48a8ad7>\u001b[0m in \u001b[0;36m<cell line: 2>\u001b[0;34m()\u001b[0m\n\u001b[1;32m     11\u001b[0m                     \u001b[0millegal_phrases\u001b[0m\u001b[0;34m.\u001b[0m\u001b[0mappend\u001b[0m\u001b[0;34m(\u001b[0m\u001b[0mx_qas\u001b[0m\u001b[0;34m[\u001b[0m\u001b[0;34m'answers'\u001b[0m\u001b[0;34m]\u001b[0m\u001b[0;34m[\u001b[0m\u001b[0;36m0\u001b[0m\u001b[0;34m]\u001b[0m\u001b[0;34m[\u001b[0m\u001b[0;34m'text'\u001b[0m\u001b[0;34m]\u001b[0m\u001b[0;34m)\u001b[0m\u001b[0;34m\u001b[0m\u001b[0;34m\u001b[0m\u001b[0m\n\u001b[1;32m     12\u001b[0m \u001b[0;34m\u001b[0m\u001b[0m\n\u001b[0;32m---> 13\u001b[0;31m                 \u001b[0msrc_lines\u001b[0m\u001b[0;34m,\u001b[0m \u001b[0mtgt_lines\u001b[0m \u001b[0;34m=\u001b[0m \u001b[0malign_sentences\u001b[0m\u001b[0;34m(\u001b[0m\u001b[0mx_context\u001b[0m\u001b[0;34m,\u001b[0m\u001b[0men_context\u001b[0m\u001b[0;34m,\u001b[0m \u001b[0mlang\u001b[0m\u001b[0;34m,\u001b[0m \u001b[0;34m'en'\u001b[0m\u001b[0;34m)\u001b[0m\u001b[0;34m\u001b[0m\u001b[0;34m\u001b[0m\u001b[0m\n\u001b[0m\u001b[1;32m     14\u001b[0m \u001b[0;34m\u001b[0m\u001b[0m\n\u001b[1;32m     15\u001b[0m                 \u001b[0mcs_context\u001b[0m\u001b[0;34m,\u001b[0m \u001b[0mchanged\u001b[0m \u001b[0;34m=\u001b[0m \u001b[0mconvert\u001b[0m\u001b[0;34m(\u001b[0m\u001b[0msrc_lines\u001b[0m\u001b[0;34m,\u001b[0m \u001b[0mtgt_lines\u001b[0m\u001b[0;34m,\u001b[0m \u001b[0mx_nlp\u001b[0m\u001b[0;34m,\u001b[0m \u001b[0men_nlp\u001b[0m\u001b[0;34m,\u001b[0m \u001b[0mpipe_align\u001b[0m\u001b[0;34m,\u001b[0m \u001b[0millegal_phrases\u001b[0m\u001b[0;34m,\u001b[0m \u001b[0mdata_idx\u001b[0m\u001b[0;34m,\u001b[0m \u001b[0mcontext_idx\u001b[0m\u001b[0;34m)\u001b[0m\u001b[0;34m\u001b[0m\u001b[0;34m\u001b[0m\u001b[0m\n",
            "\u001b[0;32m<ipython-input-6-bec954ba1ea7>\u001b[0m in \u001b[0;36malign_sentences\u001b[0;34m(src, tgt, src_lang, tgt_lang)\u001b[0m\n\u001b[1;32m     20\u001b[0m \u001b[0;34m\u001b[0m\u001b[0m\n\u001b[1;32m     21\u001b[0m \u001b[0;32mdef\u001b[0m \u001b[0malign_sentences\u001b[0m\u001b[0;34m(\u001b[0m\u001b[0msrc\u001b[0m\u001b[0;34m,\u001b[0m \u001b[0mtgt\u001b[0m\u001b[0;34m,\u001b[0m \u001b[0msrc_lang\u001b[0m\u001b[0;34m,\u001b[0m \u001b[0mtgt_lang\u001b[0m\u001b[0;34m)\u001b[0m\u001b[0;34m:\u001b[0m\u001b[0;34m\u001b[0m\u001b[0;34m\u001b[0m\u001b[0m\n\u001b[0;32m---> 22\u001b[0;31m     \u001b[0maligner\u001b[0m \u001b[0;34m=\u001b[0m \u001b[0mBertalign\u001b[0m\u001b[0;34m(\u001b[0m\u001b[0msrc\u001b[0m\u001b[0;34m,\u001b[0m \u001b[0mtgt\u001b[0m\u001b[0;34m,\u001b[0m \u001b[0msrc_lang\u001b[0m\u001b[0;34m,\u001b[0m \u001b[0mtgt_lang\u001b[0m\u001b[0;34m)\u001b[0m\u001b[0;34m\u001b[0m\u001b[0;34m\u001b[0m\u001b[0m\n\u001b[0m\u001b[1;32m     23\u001b[0m     \u001b[0maligner\u001b[0m\u001b[0;34m.\u001b[0m\u001b[0malign_sents\u001b[0m\u001b[0;34m(\u001b[0m\u001b[0;34m)\u001b[0m\u001b[0;34m\u001b[0m\u001b[0;34m\u001b[0m\u001b[0m\n\u001b[1;32m     24\u001b[0m     \u001b[0msrc_lines\u001b[0m \u001b[0;34m=\u001b[0m \u001b[0;34m[\u001b[0m\u001b[0;34m]\u001b[0m\u001b[0;34m\u001b[0m\u001b[0;34m\u001b[0m\u001b[0m\n",
            "\u001b[0;32m/usr/local/lib/python3.10/dist-packages/bertalign/aligner.py\u001b[0m in \u001b[0;36m__init__\u001b[0;34m(self, src, tgt, src_lang, tgt_lang, max_align, top_k, win, skip, margin, len_penalty, is_split)\u001b[0m\n\u001b[1;32m     34\u001b[0m             \u001b[0mtgt_sents\u001b[0m \u001b[0;34m=\u001b[0m \u001b[0mtgt\u001b[0m\u001b[0;34m.\u001b[0m\u001b[0msplitlines\u001b[0m\u001b[0;34m(\u001b[0m\u001b[0;34m)\u001b[0m\u001b[0;34m\u001b[0m\u001b[0;34m\u001b[0m\u001b[0m\n\u001b[1;32m     35\u001b[0m         \u001b[0;32melse\u001b[0m\u001b[0;34m:\u001b[0m\u001b[0;34m\u001b[0m\u001b[0;34m\u001b[0m\u001b[0m\n\u001b[0;32m---> 36\u001b[0;31m             \u001b[0msrc_sents\u001b[0m \u001b[0;34m=\u001b[0m \u001b[0msplit_sents\u001b[0m\u001b[0;34m(\u001b[0m\u001b[0msrc\u001b[0m\u001b[0;34m,\u001b[0m \u001b[0msrc_lang\u001b[0m\u001b[0;34m)\u001b[0m\u001b[0;34m\u001b[0m\u001b[0;34m\u001b[0m\u001b[0m\n\u001b[0m\u001b[1;32m     37\u001b[0m             \u001b[0mtgt_sents\u001b[0m \u001b[0;34m=\u001b[0m \u001b[0msplit_sents\u001b[0m\u001b[0;34m(\u001b[0m\u001b[0mtgt\u001b[0m\u001b[0;34m,\u001b[0m \u001b[0mtgt_lang\u001b[0m\u001b[0;34m)\u001b[0m\u001b[0;34m\u001b[0m\u001b[0;34m\u001b[0m\u001b[0m\n\u001b[1;32m     38\u001b[0m \u001b[0;34m\u001b[0m\u001b[0m\n",
            "\u001b[0;32m/usr/local/lib/python3.10/dist-packages/bertalign/utils.py\u001b[0m in \u001b[0;36msplit_sents\u001b[0;34m(text, lang)\u001b[0m\n\u001b[1;32m     35\u001b[0m         \u001b[0;32mreturn\u001b[0m \u001b[0msents\u001b[0m\u001b[0;34m\u001b[0m\u001b[0;34m\u001b[0m\u001b[0m\n\u001b[1;32m     36\u001b[0m     \u001b[0;32melse\u001b[0m\u001b[0;34m:\u001b[0m\u001b[0;34m\u001b[0m\u001b[0;34m\u001b[0m\u001b[0m\n\u001b[0;32m---> 37\u001b[0;31m         \u001b[0;32mraise\u001b[0m \u001b[0mException\u001b[0m\u001b[0;34m(\u001b[0m\u001b[0;34m'The language {} is not suppored yet.'\u001b[0m\u001b[0;34m.\u001b[0m\u001b[0mformat\u001b[0m\u001b[0;34m(\u001b[0m\u001b[0mLANG\u001b[0m\u001b[0;34m.\u001b[0m\u001b[0mISO\u001b[0m\u001b[0;34m[\u001b[0m\u001b[0mlang\u001b[0m\u001b[0;34m]\u001b[0m\u001b[0;34m)\u001b[0m\u001b[0;34m)\u001b[0m\u001b[0;34m\u001b[0m\u001b[0;34m\u001b[0m\u001b[0m\n\u001b[0m\u001b[1;32m     38\u001b[0m \u001b[0;34m\u001b[0m\u001b[0m\n\u001b[1;32m     39\u001b[0m \u001b[0;32mdef\u001b[0m \u001b[0m_split_zh\u001b[0m\u001b[0;34m(\u001b[0m\u001b[0mtext\u001b[0m\u001b[0;34m,\u001b[0m \u001b[0mlimit\u001b[0m\u001b[0;34m=\u001b[0m\u001b[0;36m1000\u001b[0m\u001b[0;34m)\u001b[0m\u001b[0;34m:\u001b[0m\u001b[0;34m\u001b[0m\u001b[0;34m\u001b[0m\u001b[0m\n",
            "\u001b[0;31mException\u001b[0m: The language Hindi is not suppored yet."
          ]
        }
      ]
    },
    {
      "cell_type": "code",
      "source": [
        "# x_context = x_obj['data'][31]['paragraphs'][4]['context'].replace('\\ufeff','')\n",
        "# en_context =  en_obj['data'][31]['paragraphs'][4]['context'].replace('\\ufeff','')\n",
        "# qas_s = en_obj['data'][31]['paragraphs'][4]['qas']\n",
        "\n",
        "# illegal_phrases = []\n",
        "# for x_qas in qas_s:\n",
        "#     illegal_phrases.append(x_qas['answers'][0]['text'])\n",
        "\n",
        "# src_lines, tgt_lines = align_sentences(x_context,en_context, lang, 'en')\n",
        "\n",
        "# cs_context, changed = convert(src_lines, tgt_lines, x_nlp, en_nlp, pipe_align, illegal_phrases, 31, 4)"
      ],
      "metadata": {
        "id": "S3VUjbyKtNcO"
      },
      "execution_count": null,
      "outputs": []
    },
    {
      "cell_type": "code",
      "source": [
        "path = f'/content/xquad_cs_context_only/xquad.{lang}.json'\n",
        "os.makedirs(os.path.dirname(path), exist_ok=True)\n",
        "with open(path, 'w+', encoding='utf-8') as f:\n",
        "    json.dump(x_obj, f, ensure_ascii=False)"
      ],
      "metadata": {
        "id": "EGb5baGhfLpI"
      },
      "execution_count": null,
      "outputs": []
    },
    {
      "cell_type": "code",
      "source": [
        "!cp $path /content/drive/MyDrive/"
      ],
      "metadata": {
        "id": "nZdKENpA_bRO"
      },
      "execution_count": null,
      "outputs": []
    },
    {
      "cell_type": "code",
      "source": [
        "from spacy.lang.en import Arabic\n",
        "\n",
        "nlp = Arabic()\n",
        "nlp.add_pipe(\"sentencizer\")\n",
        "doc = nlp(\"This is a sentence. This is another sentence.\")\n",
        "assert len(list(doc.sents)) == 2"
      ],
      "metadata": {
        "id": "TqQUleydHLPk"
      },
      "execution_count": null,
      "outputs": []
    },
    {
      "cell_type": "code",
      "source": [
        "doc.sents"
      ],
      "metadata": {
        "colab": {
          "base_uri": "https://localhost:8080/",
          "height": 175
        },
        "id": "ObOtNXtBHa_u",
        "outputId": "e9b1c0e0-c0e7-40d2-db42-37b66361cac5"
      },
      "execution_count": null,
      "outputs": [
        {
          "output_type": "error",
          "ename": "TypeError",
          "evalue": "'generator' object is not subscriptable",
          "traceback": [
            "\u001b[0;31m---------------------------------------------------------------------------\u001b[0m",
            "\u001b[0;31mTypeError\u001b[0m                                 Traceback (most recent call last)",
            "\u001b[0;32m<ipython-input-3-c1472b4bcc1a>\u001b[0m in \u001b[0;36m<cell line: 1>\u001b[0;34m()\u001b[0m\n\u001b[0;32m----> 1\u001b[0;31m \u001b[0mdoc\u001b[0m\u001b[0;34m.\u001b[0m\u001b[0msents\u001b[0m\u001b[0;34m[\u001b[0m\u001b[0;36m0\u001b[0m\u001b[0;34m]\u001b[0m\u001b[0;34m\u001b[0m\u001b[0;34m\u001b[0m\u001b[0m\n\u001b[0m",
            "\u001b[0;31mTypeError\u001b[0m: 'generator' object is not subscriptable"
          ]
        }
      ]
    }
  ],
  "metadata": {
    "colab": {
      "provenance": []
    },
    "kernelspec": {
      "display_name": "Python 3",
      "name": "python3"
    },
    "language_info": {
      "name": "python"
    },
    "widgets": {
      "application/vnd.jupyter.widget-state+json": {
        "23e5feb7c8b44541ac888fc727c5e9b4": {
          "model_module": "@jupyter-widgets/controls",
          "model_name": "HBoxModel",
          "model_module_version": "1.5.0",
          "state": {
            "_dom_classes": [],
            "_model_module": "@jupyter-widgets/controls",
            "_model_module_version": "1.5.0",
            "_model_name": "HBoxModel",
            "_view_count": null,
            "_view_module": "@jupyter-widgets/controls",
            "_view_module_version": "1.5.0",
            "_view_name": "HBoxView",
            "box_style": "",
            "children": [
              "IPY_MODEL_ee06a9397ec140a286830f670812936b",
              "IPY_MODEL_3bf673ead8df4aa7857a2c7ddb5bce87",
              "IPY_MODEL_9f39823d5069457cbf471ecdcc06c360"
            ],
            "layout": "IPY_MODEL_e1b74c577340404b9120a8e70f4b43dd"
          }
        },
        "ee06a9397ec140a286830f670812936b": {
          "model_module": "@jupyter-widgets/controls",
          "model_name": "HTMLModel",
          "model_module_version": "1.5.0",
          "state": {
            "_dom_classes": [],
            "_model_module": "@jupyter-widgets/controls",
            "_model_module_version": "1.5.0",
            "_model_name": "HTMLModel",
            "_view_count": null,
            "_view_module": "@jupyter-widgets/controls",
            "_view_module_version": "1.5.0",
            "_view_name": "HTMLView",
            "description": "",
            "description_tooltip": null,
            "layout": "IPY_MODEL_cd6eb1b1875c4e8b95e884b90f6bc9b5",
            "placeholder": "​",
            "style": "IPY_MODEL_34c01c97cb144bc980b185295866df4b",
            "value": "  0%"
          }
        },
        "3bf673ead8df4aa7857a2c7ddb5bce87": {
          "model_module": "@jupyter-widgets/controls",
          "model_name": "FloatProgressModel",
          "model_module_version": "1.5.0",
          "state": {
            "_dom_classes": [],
            "_model_module": "@jupyter-widgets/controls",
            "_model_module_version": "1.5.0",
            "_model_name": "FloatProgressModel",
            "_view_count": null,
            "_view_module": "@jupyter-widgets/controls",
            "_view_module_version": "1.5.0",
            "_view_name": "ProgressView",
            "bar_style": "danger",
            "description": "",
            "description_tooltip": null,
            "layout": "IPY_MODEL_ee72ef45e89c4cd590168deb6277c01c",
            "max": 48,
            "min": 0,
            "orientation": "horizontal",
            "style": "IPY_MODEL_249a1caa2efb4ac983fbad82d257db2b",
            "value": 0
          }
        },
        "9f39823d5069457cbf471ecdcc06c360": {
          "model_module": "@jupyter-widgets/controls",
          "model_name": "HTMLModel",
          "model_module_version": "1.5.0",
          "state": {
            "_dom_classes": [],
            "_model_module": "@jupyter-widgets/controls",
            "_model_module_version": "1.5.0",
            "_model_name": "HTMLModel",
            "_view_count": null,
            "_view_module": "@jupyter-widgets/controls",
            "_view_module_version": "1.5.0",
            "_view_name": "HTMLView",
            "description": "",
            "description_tooltip": null,
            "layout": "IPY_MODEL_6e5e4d572c804558b03befba40e4744a",
            "placeholder": "​",
            "style": "IPY_MODEL_3757e924e93e4b0ab760407467f90828",
            "value": " 0/48 [00:00&lt;?, ?it/s]"
          }
        },
        "e1b74c577340404b9120a8e70f4b43dd": {
          "model_module": "@jupyter-widgets/base",
          "model_name": "LayoutModel",
          "model_module_version": "1.2.0",
          "state": {
            "_model_module": "@jupyter-widgets/base",
            "_model_module_version": "1.2.0",
            "_model_name": "LayoutModel",
            "_view_count": null,
            "_view_module": "@jupyter-widgets/base",
            "_view_module_version": "1.2.0",
            "_view_name": "LayoutView",
            "align_content": null,
            "align_items": null,
            "align_self": null,
            "border": null,
            "bottom": null,
            "display": null,
            "flex": null,
            "flex_flow": null,
            "grid_area": null,
            "grid_auto_columns": null,
            "grid_auto_flow": null,
            "grid_auto_rows": null,
            "grid_column": null,
            "grid_gap": null,
            "grid_row": null,
            "grid_template_areas": null,
            "grid_template_columns": null,
            "grid_template_rows": null,
            "height": null,
            "justify_content": null,
            "justify_items": null,
            "left": null,
            "margin": null,
            "max_height": null,
            "max_width": null,
            "min_height": null,
            "min_width": null,
            "object_fit": null,
            "object_position": null,
            "order": null,
            "overflow": null,
            "overflow_x": null,
            "overflow_y": null,
            "padding": null,
            "right": null,
            "top": null,
            "visibility": null,
            "width": null
          }
        },
        "cd6eb1b1875c4e8b95e884b90f6bc9b5": {
          "model_module": "@jupyter-widgets/base",
          "model_name": "LayoutModel",
          "model_module_version": "1.2.0",
          "state": {
            "_model_module": "@jupyter-widgets/base",
            "_model_module_version": "1.2.0",
            "_model_name": "LayoutModel",
            "_view_count": null,
            "_view_module": "@jupyter-widgets/base",
            "_view_module_version": "1.2.0",
            "_view_name": "LayoutView",
            "align_content": null,
            "align_items": null,
            "align_self": null,
            "border": null,
            "bottom": null,
            "display": null,
            "flex": null,
            "flex_flow": null,
            "grid_area": null,
            "grid_auto_columns": null,
            "grid_auto_flow": null,
            "grid_auto_rows": null,
            "grid_column": null,
            "grid_gap": null,
            "grid_row": null,
            "grid_template_areas": null,
            "grid_template_columns": null,
            "grid_template_rows": null,
            "height": null,
            "justify_content": null,
            "justify_items": null,
            "left": null,
            "margin": null,
            "max_height": null,
            "max_width": null,
            "min_height": null,
            "min_width": null,
            "object_fit": null,
            "object_position": null,
            "order": null,
            "overflow": null,
            "overflow_x": null,
            "overflow_y": null,
            "padding": null,
            "right": null,
            "top": null,
            "visibility": null,
            "width": null
          }
        },
        "34c01c97cb144bc980b185295866df4b": {
          "model_module": "@jupyter-widgets/controls",
          "model_name": "DescriptionStyleModel",
          "model_module_version": "1.5.0",
          "state": {
            "_model_module": "@jupyter-widgets/controls",
            "_model_module_version": "1.5.0",
            "_model_name": "DescriptionStyleModel",
            "_view_count": null,
            "_view_module": "@jupyter-widgets/base",
            "_view_module_version": "1.2.0",
            "_view_name": "StyleView",
            "description_width": ""
          }
        },
        "ee72ef45e89c4cd590168deb6277c01c": {
          "model_module": "@jupyter-widgets/base",
          "model_name": "LayoutModel",
          "model_module_version": "1.2.0",
          "state": {
            "_model_module": "@jupyter-widgets/base",
            "_model_module_version": "1.2.0",
            "_model_name": "LayoutModel",
            "_view_count": null,
            "_view_module": "@jupyter-widgets/base",
            "_view_module_version": "1.2.0",
            "_view_name": "LayoutView",
            "align_content": null,
            "align_items": null,
            "align_self": null,
            "border": null,
            "bottom": null,
            "display": null,
            "flex": null,
            "flex_flow": null,
            "grid_area": null,
            "grid_auto_columns": null,
            "grid_auto_flow": null,
            "grid_auto_rows": null,
            "grid_column": null,
            "grid_gap": null,
            "grid_row": null,
            "grid_template_areas": null,
            "grid_template_columns": null,
            "grid_template_rows": null,
            "height": null,
            "justify_content": null,
            "justify_items": null,
            "left": null,
            "margin": null,
            "max_height": null,
            "max_width": null,
            "min_height": null,
            "min_width": null,
            "object_fit": null,
            "object_position": null,
            "order": null,
            "overflow": null,
            "overflow_x": null,
            "overflow_y": null,
            "padding": null,
            "right": null,
            "top": null,
            "visibility": null,
            "width": null
          }
        },
        "249a1caa2efb4ac983fbad82d257db2b": {
          "model_module": "@jupyter-widgets/controls",
          "model_name": "ProgressStyleModel",
          "model_module_version": "1.5.0",
          "state": {
            "_model_module": "@jupyter-widgets/controls",
            "_model_module_version": "1.5.0",
            "_model_name": "ProgressStyleModel",
            "_view_count": null,
            "_view_module": "@jupyter-widgets/base",
            "_view_module_version": "1.2.0",
            "_view_name": "StyleView",
            "bar_color": null,
            "description_width": ""
          }
        },
        "6e5e4d572c804558b03befba40e4744a": {
          "model_module": "@jupyter-widgets/base",
          "model_name": "LayoutModel",
          "model_module_version": "1.2.0",
          "state": {
            "_model_module": "@jupyter-widgets/base",
            "_model_module_version": "1.2.0",
            "_model_name": "LayoutModel",
            "_view_count": null,
            "_view_module": "@jupyter-widgets/base",
            "_view_module_version": "1.2.0",
            "_view_name": "LayoutView",
            "align_content": null,
            "align_items": null,
            "align_self": null,
            "border": null,
            "bottom": null,
            "display": null,
            "flex": null,
            "flex_flow": null,
            "grid_area": null,
            "grid_auto_columns": null,
            "grid_auto_flow": null,
            "grid_auto_rows": null,
            "grid_column": null,
            "grid_gap": null,
            "grid_row": null,
            "grid_template_areas": null,
            "grid_template_columns": null,
            "grid_template_rows": null,
            "height": null,
            "justify_content": null,
            "justify_items": null,
            "left": null,
            "margin": null,
            "max_height": null,
            "max_width": null,
            "min_height": null,
            "min_width": null,
            "object_fit": null,
            "object_position": null,
            "order": null,
            "overflow": null,
            "overflow_x": null,
            "overflow_y": null,
            "padding": null,
            "right": null,
            "top": null,
            "visibility": null,
            "width": null
          }
        },
        "3757e924e93e4b0ab760407467f90828": {
          "model_module": "@jupyter-widgets/controls",
          "model_name": "DescriptionStyleModel",
          "model_module_version": "1.5.0",
          "state": {
            "_model_module": "@jupyter-widgets/controls",
            "_model_module_version": "1.5.0",
            "_model_name": "DescriptionStyleModel",
            "_view_count": null,
            "_view_module": "@jupyter-widgets/base",
            "_view_module_version": "1.2.0",
            "_view_name": "StyleView",
            "description_width": ""
          }
        },
        "df59ee57be3c4bba8085a79aa247b8ca": {
          "model_module": "@jupyter-widgets/controls",
          "model_name": "HBoxModel",
          "model_module_version": "1.5.0",
          "state": {
            "_dom_classes": [],
            "_model_module": "@jupyter-widgets/controls",
            "_model_module_version": "1.5.0",
            "_model_name": "HBoxModel",
            "_view_count": null,
            "_view_module": "@jupyter-widgets/controls",
            "_view_module_version": "1.5.0",
            "_view_name": "HBoxView",
            "box_style": "",
            "children": [
              "IPY_MODEL_8e782acc51164798a1a0bbe7477c8df4",
              "IPY_MODEL_ee6b732b20da4a52b4babe8282072e13",
              "IPY_MODEL_0991173d91584a91b4f6392e46934cd8"
            ],
            "layout": "IPY_MODEL_e4fadb64a6fd498aa09e267a7cb5543c"
          }
        },
        "8e782acc51164798a1a0bbe7477c8df4": {
          "model_module": "@jupyter-widgets/controls",
          "model_name": "HTMLModel",
          "model_module_version": "1.5.0",
          "state": {
            "_dom_classes": [],
            "_model_module": "@jupyter-widgets/controls",
            "_model_module_version": "1.5.0",
            "_model_name": "HTMLModel",
            "_view_count": null,
            "_view_module": "@jupyter-widgets/controls",
            "_view_module_version": "1.5.0",
            "_view_name": "HTMLView",
            "description": "",
            "description_tooltip": null,
            "layout": "IPY_MODEL_941a1a169ad548a09f711260b736f943",
            "placeholder": "​",
            "style": "IPY_MODEL_f0c833d6f39144b2b732a472e561dc33",
            "value": "  0%"
          }
        },
        "ee6b732b20da4a52b4babe8282072e13": {
          "model_module": "@jupyter-widgets/controls",
          "model_name": "FloatProgressModel",
          "model_module_version": "1.5.0",
          "state": {
            "_dom_classes": [],
            "_model_module": "@jupyter-widgets/controls",
            "_model_module_version": "1.5.0",
            "_model_name": "FloatProgressModel",
            "_view_count": null,
            "_view_module": "@jupyter-widgets/controls",
            "_view_module_version": "1.5.0",
            "_view_name": "ProgressView",
            "bar_style": "danger",
            "description": "",
            "description_tooltip": null,
            "layout": "IPY_MODEL_219fd136e44a4b639219f6d1232c3043",
            "max": 5,
            "min": 0,
            "orientation": "horizontal",
            "style": "IPY_MODEL_6cbd043b81c44430972d174eccee1673",
            "value": 0
          }
        },
        "0991173d91584a91b4f6392e46934cd8": {
          "model_module": "@jupyter-widgets/controls",
          "model_name": "HTMLModel",
          "model_module_version": "1.5.0",
          "state": {
            "_dom_classes": [],
            "_model_module": "@jupyter-widgets/controls",
            "_model_module_version": "1.5.0",
            "_model_name": "HTMLModel",
            "_view_count": null,
            "_view_module": "@jupyter-widgets/controls",
            "_view_module_version": "1.5.0",
            "_view_name": "HTMLView",
            "description": "",
            "description_tooltip": null,
            "layout": "IPY_MODEL_b18547982502405aaf4f2b2f579a329c",
            "placeholder": "​",
            "style": "IPY_MODEL_d3c4a02c4a4649918b125e480a49be4c",
            "value": " 0/5 [00:00&lt;?, ?it/s]"
          }
        },
        "e4fadb64a6fd498aa09e267a7cb5543c": {
          "model_module": "@jupyter-widgets/base",
          "model_name": "LayoutModel",
          "model_module_version": "1.2.0",
          "state": {
            "_model_module": "@jupyter-widgets/base",
            "_model_module_version": "1.2.0",
            "_model_name": "LayoutModel",
            "_view_count": null,
            "_view_module": "@jupyter-widgets/base",
            "_view_module_version": "1.2.0",
            "_view_name": "LayoutView",
            "align_content": null,
            "align_items": null,
            "align_self": null,
            "border": null,
            "bottom": null,
            "display": null,
            "flex": null,
            "flex_flow": null,
            "grid_area": null,
            "grid_auto_columns": null,
            "grid_auto_flow": null,
            "grid_auto_rows": null,
            "grid_column": null,
            "grid_gap": null,
            "grid_row": null,
            "grid_template_areas": null,
            "grid_template_columns": null,
            "grid_template_rows": null,
            "height": null,
            "justify_content": null,
            "justify_items": null,
            "left": null,
            "margin": null,
            "max_height": null,
            "max_width": null,
            "min_height": null,
            "min_width": null,
            "object_fit": null,
            "object_position": null,
            "order": null,
            "overflow": null,
            "overflow_x": null,
            "overflow_y": null,
            "padding": null,
            "right": null,
            "top": null,
            "visibility": null,
            "width": null
          }
        },
        "941a1a169ad548a09f711260b736f943": {
          "model_module": "@jupyter-widgets/base",
          "model_name": "LayoutModel",
          "model_module_version": "1.2.0",
          "state": {
            "_model_module": "@jupyter-widgets/base",
            "_model_module_version": "1.2.0",
            "_model_name": "LayoutModel",
            "_view_count": null,
            "_view_module": "@jupyter-widgets/base",
            "_view_module_version": "1.2.0",
            "_view_name": "LayoutView",
            "align_content": null,
            "align_items": null,
            "align_self": null,
            "border": null,
            "bottom": null,
            "display": null,
            "flex": null,
            "flex_flow": null,
            "grid_area": null,
            "grid_auto_columns": null,
            "grid_auto_flow": null,
            "grid_auto_rows": null,
            "grid_column": null,
            "grid_gap": null,
            "grid_row": null,
            "grid_template_areas": null,
            "grid_template_columns": null,
            "grid_template_rows": null,
            "height": null,
            "justify_content": null,
            "justify_items": null,
            "left": null,
            "margin": null,
            "max_height": null,
            "max_width": null,
            "min_height": null,
            "min_width": null,
            "object_fit": null,
            "object_position": null,
            "order": null,
            "overflow": null,
            "overflow_x": null,
            "overflow_y": null,
            "padding": null,
            "right": null,
            "top": null,
            "visibility": null,
            "width": null
          }
        },
        "f0c833d6f39144b2b732a472e561dc33": {
          "model_module": "@jupyter-widgets/controls",
          "model_name": "DescriptionStyleModel",
          "model_module_version": "1.5.0",
          "state": {
            "_model_module": "@jupyter-widgets/controls",
            "_model_module_version": "1.5.0",
            "_model_name": "DescriptionStyleModel",
            "_view_count": null,
            "_view_module": "@jupyter-widgets/base",
            "_view_module_version": "1.2.0",
            "_view_name": "StyleView",
            "description_width": ""
          }
        },
        "219fd136e44a4b639219f6d1232c3043": {
          "model_module": "@jupyter-widgets/base",
          "model_name": "LayoutModel",
          "model_module_version": "1.2.0",
          "state": {
            "_model_module": "@jupyter-widgets/base",
            "_model_module_version": "1.2.0",
            "_model_name": "LayoutModel",
            "_view_count": null,
            "_view_module": "@jupyter-widgets/base",
            "_view_module_version": "1.2.0",
            "_view_name": "LayoutView",
            "align_content": null,
            "align_items": null,
            "align_self": null,
            "border": null,
            "bottom": null,
            "display": null,
            "flex": null,
            "flex_flow": null,
            "grid_area": null,
            "grid_auto_columns": null,
            "grid_auto_flow": null,
            "grid_auto_rows": null,
            "grid_column": null,
            "grid_gap": null,
            "grid_row": null,
            "grid_template_areas": null,
            "grid_template_columns": null,
            "grid_template_rows": null,
            "height": null,
            "justify_content": null,
            "justify_items": null,
            "left": null,
            "margin": null,
            "max_height": null,
            "max_width": null,
            "min_height": null,
            "min_width": null,
            "object_fit": null,
            "object_position": null,
            "order": null,
            "overflow": null,
            "overflow_x": null,
            "overflow_y": null,
            "padding": null,
            "right": null,
            "top": null,
            "visibility": null,
            "width": null
          }
        },
        "6cbd043b81c44430972d174eccee1673": {
          "model_module": "@jupyter-widgets/controls",
          "model_name": "ProgressStyleModel",
          "model_module_version": "1.5.0",
          "state": {
            "_model_module": "@jupyter-widgets/controls",
            "_model_module_version": "1.5.0",
            "_model_name": "ProgressStyleModel",
            "_view_count": null,
            "_view_module": "@jupyter-widgets/base",
            "_view_module_version": "1.2.0",
            "_view_name": "StyleView",
            "bar_color": null,
            "description_width": ""
          }
        },
        "b18547982502405aaf4f2b2f579a329c": {
          "model_module": "@jupyter-widgets/base",
          "model_name": "LayoutModel",
          "model_module_version": "1.2.0",
          "state": {
            "_model_module": "@jupyter-widgets/base",
            "_model_module_version": "1.2.0",
            "_model_name": "LayoutModel",
            "_view_count": null,
            "_view_module": "@jupyter-widgets/base",
            "_view_module_version": "1.2.0",
            "_view_name": "LayoutView",
            "align_content": null,
            "align_items": null,
            "align_self": null,
            "border": null,
            "bottom": null,
            "display": null,
            "flex": null,
            "flex_flow": null,
            "grid_area": null,
            "grid_auto_columns": null,
            "grid_auto_flow": null,
            "grid_auto_rows": null,
            "grid_column": null,
            "grid_gap": null,
            "grid_row": null,
            "grid_template_areas": null,
            "grid_template_columns": null,
            "grid_template_rows": null,
            "height": null,
            "justify_content": null,
            "justify_items": null,
            "left": null,
            "margin": null,
            "max_height": null,
            "max_width": null,
            "min_height": null,
            "min_width": null,
            "object_fit": null,
            "object_position": null,
            "order": null,
            "overflow": null,
            "overflow_x": null,
            "overflow_y": null,
            "padding": null,
            "right": null,
            "top": null,
            "visibility": null,
            "width": null
          }
        },
        "d3c4a02c4a4649918b125e480a49be4c": {
          "model_module": "@jupyter-widgets/controls",
          "model_name": "DescriptionStyleModel",
          "model_module_version": "1.5.0",
          "state": {
            "_model_module": "@jupyter-widgets/controls",
            "_model_module_version": "1.5.0",
            "_model_name": "DescriptionStyleModel",
            "_view_count": null,
            "_view_module": "@jupyter-widgets/base",
            "_view_module_version": "1.2.0",
            "_view_name": "StyleView",
            "description_width": ""
          }
        }
      }
    }
  },
  "nbformat": 4,
  "nbformat_minor": 0
}